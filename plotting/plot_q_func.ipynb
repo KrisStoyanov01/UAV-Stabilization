{
 "cells": [
  {
   "cell_type": "code",
   "execution_count": null,
   "metadata": {},
   "outputs": [],
   "source": [
    "import os\n",
    "import os.path as osp\n",
    "import numpy as np\n",
    "import pickle\n",
    "import matplotlib.pyplot as plt\n",
    "import numpy.linalg as LA\n",
    "import torch\n",
    "\n",
    "\n",
    "class VFunc:\n",
    "    def __init__(self):  \n",
    "        self.policy = torch.load(\"../saved_model/policy_drone_xz_LBAC_draw_clbf_epi500_seed1.pkl\")\n",
    "        self.critic = torch.load(\"../saved_model/critic_drone_xz_LBAC_draw_clbf_epi500_seed1.pkl\")\n",
    "        self.device = torch.device(\"cpu\")\n",
    "        \n",
    "    def compute_v(self, state_array):\n",
    "        state = torch.FloatTensor(state_array).to(self.device).unsqueeze(0)\n",
    "        action, _, _ = self.policy.sample(state)\n",
    "        # state = torch.unsqueeze(state, dim=0)\n",
    "        # action = torch.unsqueeze(action, dim=0)\n",
    "        v = self.critic(state, action)\n",
    "        v_val = min(v[0].item(), v[1].item())\n",
    "        return v_val\n",
    "    \n",
    "v_func = VFunc()\n",
    "v_func.compute_v(np.array([0, 0, 0, 0]))"
   ]
  },
  {
   "cell_type": "code",
   "execution_count": null,
   "metadata": {},
   "outputs": [],
   "source": [
    "unit_num = 40\n",
    "nx, ny = (3 * unit_num, 2 * unit_num)\n",
    "xs = np.linspace(-2, 1, nx)\n",
    "ys = np.linspace(0, 2, ny)\n",
    "\n",
    "zs = np.zeros((ny, nx))\n",
    "\n",
    "for num_x in range(xs.shape[0]):\n",
    "    for num_y in range(ys.shape[0]):\n",
    "        zs[ny - 1 - num_y, num_x] = v_func.compute_v(np.array([xs[num_x], ys[num_y], 1, 0]))"
   ]
  },
  {
   "cell_type": "code",
   "execution_count": null,
   "metadata": {},
   "outputs": [],
   "source": [
    "fig, axs = plt.subplots(1, figsize=(8, 8))\n",
    "rectangle_lower = plt.Rectangle((-1, 0.1), 0.5, 0.9, color='red', alpha=0.2)\n",
    "rectangle_higher = plt.Rectangle((0, 1.3), 1, 0.5, color='red', alpha=0.2)\n",
    "ground = plt.Rectangle((-2, 0), 3, 0.2, color='red', alpha=0.2)\n",
    "plt.pcolormesh(xs, ys, zs)\n",
    "plt.colorbar()\n",
    "# plt.gca().add_patch(rectangle_lower, )\n",
    "# plt.gca().add_patch(rectangle_higher)\n",
    "# plt.gca().add_patch(ground)\n",
    "plt.show()"
   ]
  },
  {
   "cell_type": "markdown",
   "metadata": {},
   "source": []
  }
 ],
 "metadata": {
  "kernelspec": {
   "display_name": "Python 3.10.4 ('robo_base')",
   "language": "python",
   "name": "python3"
  },
  "language_info": {
   "codemirror_mode": {
    "name": "ipython",
    "version": 3
   },
   "file_extension": ".py",
   "mimetype": "text/x-python",
   "name": "python",
   "nbconvert_exporter": "python",
   "pygments_lexer": "ipython3",
   "version": "3.10.4"
  },
  "orig_nbformat": 4,
  "vscode": {
   "interpreter": {
    "hash": "96e0b108776c78b5cda65fd4c3038f220ed3a169480f8d80518a0bf08276259c"
   }
  }
 },
 "nbformat": 4,
 "nbformat_minor": 2
}
