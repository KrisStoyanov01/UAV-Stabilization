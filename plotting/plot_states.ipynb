{
 "cells": [
  {
   "cell_type": "code",
   "execution_count": null,
   "metadata": {},
   "outputs": [],
   "source": [
    "import os\n",
    "import os.path as osp\n",
    "import numpy as np\n",
    "import pickle\n",
    "import matplotlib.pyplot as plt\n",
    "import numpy.linalg as LA\n",
    "\n",
    "logdir = \"/home/desong/Shaohang/back_up/Actor_critic_with_safety/training_logs/navigation2/2022-09-30_14-36-33_SAC_navigation2_Gaussian_LBAC\""
   ]
  },
  {
   "cell_type": "code",
   "execution_count": null,
   "metadata": {},
   "outputs": [],
   "source": [
    "with open(osp.join(logdir, \"run_stats.pkl\"), \"rb\") as f:\n",
    "    data = pickle.load(f)   \n",
    "train_stats = data[\"train_stats\"]\n",
    "\n",
    "start = -740\n",
    "num_traj = 50\n",
    "\n",
    "for j in range(start, start-num_traj, -1):\n",
    "    traj = train_stats[j]\n",
    "    xs = []\n",
    "    zs = []\n",
    "    for i in range(len(traj)-1):\n",
    "        step_stats = traj[i]\n",
    "        state = step_stats[\"state\"]\n",
    "        state = state[0]\n",
    "        xs.append(state[0])\n",
    "        zs.append(state[1])\n",
    "\n",
    "    fig, axs = plt.subplots(1, figsize=(8, 8))\n",
    "    axs.plot(xs, zs, '-')\n",
    "    if (len(xs) > 0):\n",
    "        axs.plot(xs[0], zs[0], 'bo', markersize=12) # start point\n",
    "        axs.plot(xs[-1], zs[-1], 'r*', markersize=12) # end point\n",
    "    print(\"=============== trajectory {} ===============\".format(j))\n",
    "    if (traj[-1][\"success\"]):\n",
    "        print(\"success\")\n",
    "    elif (traj[-1][\"constraint\"]):\n",
    "        print(\"violate\")\n",
    "    else:\n",
    "        print(\"timeout\")\n",
    "    rectangle_lower = plt.Rectangle((0.75, 0), 0.5, 1)\n",
    "    plt.gca().add_patch(rectangle_lower)\n",
    "    axs.set_xlim([-0.5, 2.5])\n",
    "    axs.set_ylim([0, 2])\n",
    "    plt.show()\n",
    "    "
   ]
  }
 ],
 "metadata": {
  "interpreter": {
   "hash": "a88474ca7718b05e67fd8eb26217f18a54c0736ab618ff7253bb8bb548acc0df"
  },
  "kernelspec": {
   "display_name": "Python 3.6.13 ('drones_py36')",
   "language": "python",
   "name": "python3"
  },
  "language_info": {
   "codemirror_mode": {
    "name": "ipython",
    "version": 3
   },
   "file_extension": ".py",
   "mimetype": "text/x-python",
   "name": "python",
   "nbconvert_exporter": "python",
   "pygments_lexer": "ipython3",
   "version": "3.6.13"
  },
  "orig_nbformat": 4,
  "vscode": {
   "interpreter": {
    "hash": "96e0b108776c78b5cda65fd4c3038f220ed3a169480f8d80518a0bf08276259c"
   }
  }
 },
 "nbformat": 4,
 "nbformat_minor": 2
}
