{
 "cells": [
  {
   "cell_type": "code",
   "execution_count": 11,
   "metadata": {},
   "outputs": [
    {
     "data": {
      "text/plain": [
       "torch.Size([3, 1, 3, 3])"
      ]
     },
     "execution_count": 11,
     "metadata": {},
     "output_type": "execute_result"
    }
   ],
   "source": [
    "import torch\n",
    "import torch.nn as nn\n",
    "\n",
    "class QNetworkCNN(nn.Module):\n",
    "    def __init__(self):\n",
    "        super(QNetworkCNN, self).__init__()\n",
    "        self.img_features = nn.Sequential(\n",
    "            nn.Conv2d(1, 1, kernel_size=5, stride=2, padding=1, bias=True),\n",
    "            nn.ReLU(),\n",
    "            nn.MaxPool2d(2),\n",
    "            nn.Conv2d(1, 1, kernel_size=5, stride=2, padding=1, bias=True),\n",
    "            nn.ReLU(),\n",
    "            nn.MaxPool2d(2)\n",
    "        )\n",
    "        \n",
    "    def forward(self, x):\n",
    "        return self.img_features(x)\n",
    "    \n",
    "model = QNetworkCNN()\n",
    "input = torch.FloatTensor(3, 1, 64, 64)\n",
    "output = model(input)\n",
    "output.shape"
   ]
  }
 ],
 "metadata": {
  "kernelspec": {
   "display_name": "Python 3.8.13 ('gym_drones')",
   "language": "python",
   "name": "python3"
  },
  "language_info": {
   "codemirror_mode": {
    "name": "ipython",
    "version": 3
   },
   "file_extension": ".py",
   "mimetype": "text/x-python",
   "name": "python",
   "nbconvert_exporter": "python",
   "pygments_lexer": "ipython3",
   "version": "3.8.13"
  },
  "orig_nbformat": 4,
  "vscode": {
   "interpreter": {
    "hash": "99239e1de48505e3ad7ef552f027b4f233b1c6ad915f720e37a2bf6deed22612"
   }
  }
 },
 "nbformat": 4,
 "nbformat_minor": 2
}
